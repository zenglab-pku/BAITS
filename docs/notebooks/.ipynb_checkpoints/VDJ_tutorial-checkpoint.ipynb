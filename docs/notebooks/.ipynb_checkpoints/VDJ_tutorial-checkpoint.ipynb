{
 "cells": [
  {
   "cell_type": "markdown",
   "id": "ded6af60-24c1-4838-8e98-a768b7cd06dc",
   "metadata": {},
   "source": [
    "# B_HIT.VDJ tutorial"
   ]
  },
  {
   "cell_type": "markdown",
   "id": "5a2eccc7-7164-4802-b50d-9ba7ed105152",
   "metadata": {},
   "source": [
    "## Import packages "
   ]
  },
  {
   "cell_type": "code",
   "execution_count": 1,
   "id": "cb493440-8c0b-4855-8060-5a23b2ee4990",
   "metadata": {
    "execution": {
     "iopub.execute_input": "2025-05-12T09:19:45.551579Z",
     "iopub.status.busy": "2025-05-12T09:19:45.550878Z",
     "iopub.status.idle": "2025-05-12T09:19:47.362395Z",
     "shell.execute_reply": "2025-05-12T09:19:47.361525Z",
     "shell.execute_reply.started": "2025-05-12T09:19:45.551523Z"
    }
   },
   "outputs": [],
   "source": [
    "import os\n",
    "import numpy as np\n",
    "import pandas as pd\n",
    "import matplotlib.pyplot as plt\n",
    "import seaborn as sns\n",
    "from scipy.stats import pearsonr\n"
   ]
  },
  {
   "cell_type": "code",
   "execution_count": 2,
   "id": "360a1307-341c-4575-a86c-fec6bf695a48",
   "metadata": {
    "execution": {
     "iopub.execute_input": "2025-05-12T09:19:47.364187Z",
     "iopub.status.busy": "2025-05-12T09:19:47.363677Z",
     "iopub.status.idle": "2025-05-12T09:20:01.483084Z",
     "shell.execute_reply": "2025-05-12T09:20:01.481562Z",
     "shell.execute_reply.started": "2025-05-12T09:19:47.364162Z"
    },
    "scrolled": true
   },
   "outputs": [],
   "source": [
    "os.chdir('/home/zhaoyp/1.CRLM_XCR/0.github/src') \n",
    "import B_HIT\n"
   ]
  },
  {
   "cell_type": "markdown",
   "id": "023bc72f-ba1d-4e19-a295-f6be51c408da",
   "metadata": {},
   "source": [
    "## Import files"
   ]
  },
  {
   "cell_type": "code",
   "execution_count": 3,
   "id": "0b60ace0-91cf-4141-8361-eb4fbd74ea2a",
   "metadata": {
    "execution": {
     "iopub.execute_input": "2025-05-12T09:20:01.486269Z",
     "iopub.status.busy": "2025-05-12T09:20:01.484735Z",
     "iopub.status.idle": "2025-05-12T09:20:01.919711Z",
     "shell.execute_reply": "2025-05-12T09:20:01.918934Z",
     "shell.execute_reply.started": "2025-05-12T09:20:01.486197Z"
    }
   },
   "outputs": [
    {
     "data": {
      "text/html": [
       "<div>\n",
       "<style scoped>\n",
       "    .dataframe tbody tr th:only-of-type {\n",
       "        vertical-align: middle;\n",
       "    }\n",
       "\n",
       "    .dataframe tbody tr th {\n",
       "        vertical-align: top;\n",
       "    }\n",
       "\n",
       "    .dataframe thead th {\n",
       "        text-align: right;\n",
       "    }\n",
       "</style>\n",
       "<table border=\"1\" class=\"dataframe\">\n",
       "  <thead>\n",
       "    <tr style=\"text-align: right;\">\n",
       "      <th></th>\n",
       "      <th>sample</th>\n",
       "      <th>bcUmi</th>\n",
       "      <th>clone</th>\n",
       "      <th>aaClone</th>\n",
       "      <th>Vgene</th>\n",
       "      <th>Jgene</th>\n",
       "      <th>Cgene</th>\n",
       "      <th>cdr3nt</th>\n",
       "    </tr>\n",
       "  </thead>\n",
       "  <tbody>\n",
       "    <tr>\n",
       "      <th>0</th>\n",
       "      <td>P0516-LM</td>\n",
       "      <td>E14D5FEFEBE3D5C47</td>\n",
       "      <td>TGTCAACAGAGTCACAGTATACCTACTTTT_CQQSHSIPTF_IGKV...</td>\n",
       "      <td>CQQSHSIPTF_IGKV1-39_IGKJ2_IGK</td>\n",
       "      <td>IGKV1-39</td>\n",
       "      <td>IGKJ2</td>\n",
       "      <td>IGK</td>\n",
       "      <td>TGTCAACAGAGTCACAGTATACCTACTTTT</td>\n",
       "    </tr>\n",
       "    <tr>\n",
       "      <th>1</th>\n",
       "      <td>P0516-LM</td>\n",
       "      <td>8E153B79054792CA2</td>\n",
       "      <td>TGTCAACAATATAGCACTGTCCCCCTCACTTTC_CQQYSTVPLTF_...</td>\n",
       "      <td>CQQYSTVPLTF_IGKV1-27_IGKJ4_IGK</td>\n",
       "      <td>IGKV1-27</td>\n",
       "      <td>IGKJ4</td>\n",
       "      <td>IGK</td>\n",
       "      <td>TGTCAACAATATAGCACTGTCCCCCTCACTTTC</td>\n",
       "    </tr>\n",
       "  </tbody>\n",
       "</table>\n",
       "</div>"
      ],
      "text/plain": [
       "     sample              bcUmi  \\\n",
       "0  P0516-LM  E14D5FEFEBE3D5C47   \n",
       "1  P0516-LM  8E153B79054792CA2   \n",
       "\n",
       "                                               clone  \\\n",
       "0  TGTCAACAGAGTCACAGTATACCTACTTTT_CQQSHSIPTF_IGKV...   \n",
       "1  TGTCAACAATATAGCACTGTCCCCCTCACTTTC_CQQYSTVPLTF_...   \n",
       "\n",
       "                          aaClone     Vgene  Jgene Cgene  \\\n",
       "0   CQQSHSIPTF_IGKV1-39_IGKJ2_IGK  IGKV1-39  IGKJ2   IGK   \n",
       "1  CQQYSTVPLTF_IGKV1-27_IGKJ4_IGK  IGKV1-27  IGKJ4   IGK   \n",
       "\n",
       "                              cdr3nt  \n",
       "0     TGTCAACAGAGTCACAGTATACCTACTTTT  \n",
       "1  TGTCAACAATATAGCACTGTCCCCCTCACTTTC  "
      ]
     },
     "execution_count": 3,
     "metadata": {},
     "output_type": "execute_result"
    }
   ],
   "source": [
    "bcr_loc_df = pd.read_csv('/home/zhaoyp/1.CRLM_XCR/0.github/docs/notebooks/data/bcr_rep_loc_twoSamples_sampled_v1.tsv', sep='\\t', index_col=0)\n",
    "\n",
    "bcr_loc_df.head(n=2) \n"
   ]
  },
  {
   "cell_type": "markdown",
   "id": "d5e0b7ca-f370-413a-a996-c79084fc31cb",
   "metadata": {},
   "source": [
    "## Define parameters"
   ]
  },
  {
   "cell_type": "code",
   "execution_count": 4,
   "id": "b7268962-513d-4601-9553-ffc65ea13cba",
   "metadata": {
    "execution": {
     "iopub.execute_input": "2025-05-12T09:20:01.921227Z",
     "iopub.status.busy": "2025-05-12T09:20:01.920577Z",
     "iopub.status.idle": "2025-05-12T09:20:01.926559Z",
     "shell.execute_reply": "2025-05-12T09:20:01.925534Z",
     "shell.execute_reply.started": "2025-05-12T09:20:01.921173Z"
    }
   },
   "outputs": [],
   "source": [
    "sample_key = 'sample'\n",
    "Umi_key = 'bcUmi'\n",
    "clone_key = 'clone'\n",
    "cdr3nt_col = 'cdr3nt'\n",
    "\n",
    "Vgene_col = 'Vgene'\n",
    "Jgene_col = 'Jgene'\n",
    "Cgene_key = 'Cgene'\n"
   ]
  },
  {
   "cell_type": "markdown",
   "id": "f986e7ea-0012-4300-b0fd-105e9e5942f7",
   "metadata": {},
   "source": [
    "## Calculate clone richness"
   ]
  },
  {
   "cell_type": "code",
   "execution_count": 5,
   "id": "ec72cc95-3d07-46f8-9181-81aa451b7ad9",
   "metadata": {
    "execution": {
     "iopub.execute_input": "2025-05-12T09:15:34.030882Z",
     "iopub.status.busy": "2025-05-12T09:15:34.030355Z",
     "iopub.status.idle": "2025-05-12T09:15:35.685865Z",
     "shell.execute_reply": "2025-05-12T09:15:35.685223Z",
     "shell.execute_reply.started": "2025-05-12T09:15:34.030843Z"
    }
   },
   "outputs": [
    {
     "data": {
      "image/png": "[encoded data removed]",
      "text/plain": [
       "<Figure size 400x350 with 1 Axes>"
      ]
     },
     "metadata": {},
     "output_type": "display_data"
    }
   ],
   "source": [
    "bcr_loc_df = B_HIT.VDJ.tl.stat_clone(bcr_loc_df, 'sample', Cgene_key, clone_key) \n"
   ]
  },
  {
   "cell_type": "code",
   "execution_count": 6,
   "id": "850c0389-2c09-40a7-8909-381698d2553a",
   "metadata": {
    "execution": {
     "iopub.execute_input": "2025-05-12T09:15:35.686853Z",
     "iopub.status.busy": "2025-05-12T09:15:35.686666Z",
     "iopub.status.idle": "2025-05-12T09:15:35.696819Z",
     "shell.execute_reply": "2025-05-12T09:15:35.696081Z",
     "shell.execute_reply.started": "2025-05-12T09:15:35.686836Z"
    }
   },
   "outputs": [
    {
     "data": {
      "text/html": [
       "<div>\n",
       "<style scoped>\n",
       "    .dataframe tbody tr th:only-of-type {\n",
       "        vertical-align: middle;\n",
       "    }\n",
       "\n",
       "    .dataframe tbody tr th {\n",
       "        vertical-align: top;\n",
       "    }\n",
       "\n",
       "    .dataframe thead th {\n",
       "        text-align: right;\n",
       "    }\n",
       "</style>\n",
       "<table border=\"1\" class=\"dataframe\">\n",
       "  <thead>\n",
       "    <tr style=\"text-align: right;\">\n",
       "      <th></th>\n",
       "      <th>sample</th>\n",
       "      <th>bcUmi</th>\n",
       "      <th>clone</th>\n",
       "      <th>aaClone</th>\n",
       "      <th>Vgene</th>\n",
       "      <th>Jgene</th>\n",
       "      <th>Cgene</th>\n",
       "      <th>cdr3nt</th>\n",
       "      <th>clone_by_sample</th>\n",
       "    </tr>\n",
       "  </thead>\n",
       "  <tbody>\n",
       "    <tr>\n",
       "      <th>0</th>\n",
       "      <td>P0516-LM</td>\n",
       "      <td>E14D5FEFEBE3D5C47</td>\n",
       "      <td>TGTCAACAGAGTCACAGTATACCTACTTTT_CQQSHSIPTF_IGKV...</td>\n",
       "      <td>CQQSHSIPTF_IGKV1-39_IGKJ2_IGK</td>\n",
       "      <td>IGKV1-39</td>\n",
       "      <td>IGKJ2</td>\n",
       "      <td>IGK</td>\n",
       "      <td>TGTCAACAGAGTCACAGTATACCTACTTTT</td>\n",
       "      <td>5216</td>\n",
       "    </tr>\n",
       "    <tr>\n",
       "      <th>1</th>\n",
       "      <td>P0516-LM</td>\n",
       "      <td>8E153B79054792CA2</td>\n",
       "      <td>TGTCAACAATATAGCACTGTCCCCCTCACTTTC_CQQYSTVPLTF_...</td>\n",
       "      <td>CQQYSTVPLTF_IGKV1-27_IGKJ4_IGK</td>\n",
       "      <td>IGKV1-27</td>\n",
       "      <td>IGKJ4</td>\n",
       "      <td>IGK</td>\n",
       "      <td>TGTCAACAATATAGCACTGTCCCCCTCACTTTC</td>\n",
       "      <td>5216</td>\n",
       "    </tr>\n",
       "  </tbody>\n",
       "</table>\n",
       "</div>"
      ],
      "text/plain": [
       "     sample              bcUmi  \\\n",
       "0  P0516-LM  E14D5FEFEBE3D5C47   \n",
       "1  P0516-LM  8E153B79054792CA2   \n",
       "\n",
       "                                               clone  \\\n",
       "0  TGTCAACAGAGTCACAGTATACCTACTTTT_CQQSHSIPTF_IGKV...   \n",
       "1  TGTCAACAATATAGCACTGTCCCCCTCACTTTC_CQQYSTVPLTF_...   \n",
       "\n",
       "                          aaClone     Vgene  Jgene Cgene  \\\n",
       "0   CQQSHSIPTF_IGKV1-39_IGKJ2_IGK  IGKV1-39  IGKJ2   IGK   \n",
       "1  CQQYSTVPLTF_IGKV1-27_IGKJ4_IGK  IGKV1-27  IGKJ4   IGK   \n",
       "\n",
       "                              cdr3nt  clone_by_sample  \n",
       "0     TGTCAACAGAGTCACAGTATACCTACTTTT             5216  \n",
       "1  TGTCAACAATATAGCACTGTCCCCCTCACTTTC             5216  "
      ]
     },
     "execution_count": 6,
     "metadata": {},
     "output_type": "execute_result"
    }
   ],
   "source": [
    "bcr_loc_df.head(n=2)"
   ]
  },
  {
   "cell_type": "markdown",
   "id": "8bc65b17-2952-4555-b78e-4701bf0fbe2c",
   "metadata": {},
   "source": [
    "## Calculate index (entropy, expansion, ...)"
   ]
  },
  {
   "cell_type": "markdown",
   "id": "7eb775b3-7760-41c5-b403-c4719c2e5ca3",
   "metadata": {},
   "source": [
    "### Shannon_entropy (based on UMI)"
   ]
  },
  {
   "cell_type": "code",
   "execution_count": 7,
   "id": "360011fd-feeb-4718-acfb-1d8e86f5de84",
   "metadata": {
    "execution": {
     "iopub.execute_input": "2025-05-12T09:20:16.821702Z",
     "iopub.status.busy": "2025-05-12T09:20:16.820884Z",
     "iopub.status.idle": "2025-05-12T09:20:17.043169Z",
     "shell.execute_reply": "2025-05-12T09:20:17.041937Z",
     "shell.execute_reply.started": "2025-05-12T09:20:16.821641Z"
    },
    "scrolled": true
   },
   "outputs": [],
   "source": [
    "groups = [sample_key, Cgene_key]\n",
    "shannon_entropy_df = B_HIT.VDJ.tl.compute_grouped_index(bcr_loc_df, sample_key, Cgene_key, clone_key, groups, count_basis = 'UMI', Umi_key='bcUmi', index='shannon_entropy')\n",
    "shannon_entropy_df['tissue'] = shannon_entropy_df['sample'].str.split('-').str[1]\n"
   ]
  },
  {
   "cell_type": "code",
   "execution_count": 8,
   "id": "f1ccacd2-58c7-427d-9016-1532b1fbafac",
   "metadata": {
    "execution": {
     "iopub.execute_input": "2025-05-12T09:15:35.818557Z",
     "iopub.status.busy": "2025-05-12T09:15:35.818382Z",
     "iopub.status.idle": "2025-05-12T09:15:35.826871Z",
     "shell.execute_reply": "2025-05-12T09:15:35.826082Z",
     "shell.execute_reply.started": "2025-05-12T09:15:35.818540Z"
    }
   },
   "outputs": [
    {
     "data": {
      "text/html": [
       "<div>\n",
       "<style scoped>\n",
       "    .dataframe tbody tr th:only-of-type {\n",
       "        vertical-align: middle;\n",
       "    }\n",
       "\n",
       "    .dataframe tbody tr th {\n",
       "        vertical-align: top;\n",
       "    }\n",
       "\n",
       "    .dataframe thead th {\n",
       "        text-align: right;\n",
       "    }\n",
       "</style>\n",
       "<table border=\"1\" class=\"dataframe\">\n",
       "  <thead>\n",
       "    <tr style=\"text-align: right;\">\n",
       "      <th></th>\n",
       "      <th>sample</th>\n",
       "      <th>Cgene</th>\n",
       "      <th>shannon_entropy</th>\n",
       "      <th>tissue</th>\n",
       "    </tr>\n",
       "  </thead>\n",
       "  <tbody>\n",
       "    <tr>\n",
       "      <th>0</th>\n",
       "      <td>P0516-LM</td>\n",
       "      <td>IGH</td>\n",
       "      <td>8.898825</td>\n",
       "      <td>LM</td>\n",
       "    </tr>\n",
       "    <tr>\n",
       "      <th>1</th>\n",
       "      <td>P0516-LM</td>\n",
       "      <td>IGK</td>\n",
       "      <td>9.235398</td>\n",
       "      <td>LM</td>\n",
       "    </tr>\n",
       "    <tr>\n",
       "      <th>2</th>\n",
       "      <td>P0516-LM</td>\n",
       "      <td>IGL</td>\n",
       "      <td>8.314985</td>\n",
       "      <td>LM</td>\n",
       "    </tr>\n",
       "    <tr>\n",
       "      <th>3</th>\n",
       "      <td>P1128-LM</td>\n",
       "      <td>IGH</td>\n",
       "      <td>8.548061</td>\n",
       "      <td>LM</td>\n",
       "    </tr>\n",
       "    <tr>\n",
       "      <th>4</th>\n",
       "      <td>P1128-LM</td>\n",
       "      <td>IGK</td>\n",
       "      <td>8.711763</td>\n",
       "      <td>LM</td>\n",
       "    </tr>\n",
       "  </tbody>\n",
       "</table>\n",
       "</div>"
      ],
      "text/plain": [
       "     sample Cgene  shannon_entropy tissue\n",
       "0  P0516-LM   IGH         8.898825     LM\n",
       "1  P0516-LM   IGK         9.235398     LM\n",
       "2  P0516-LM   IGL         8.314985     LM\n",
       "3  P1128-LM   IGH         8.548061     LM\n",
       "4  P1128-LM   IGK         8.711763     LM"
      ]
     },
     "execution_count": 8,
     "metadata": {},
     "output_type": "execute_result"
    }
   ],
   "source": [
    "shannon_entropy_df.head()"
   ]
  },
  {
   "cell_type": "code",
   "execution_count": 9,
   "id": "cae3f860-2e1d-455c-b54d-a6ff80382ce4",
   "metadata": {
    "execution": {
     "iopub.execute_input": "2025-05-12T09:15:35.827942Z",
     "iopub.status.busy": "2025-05-12T09:15:35.827676Z",
     "iopub.status.idle": "2025-05-12T09:15:35.952729Z",
     "shell.execute_reply": "2025-05-12T09:15:35.952152Z",
     "shell.execute_reply.started": "2025-05-12T09:15:35.827914Z"
    }
   },
   "outputs": [
    {
     "name": "stderr",
     "output_type": "stream",
     "text": [
      "No artists with labels found to put in legend.  Note that artists whose label start with an underscore are ignored when legend() is called with no argument.\n"
     ]
    },
    {
     "data": {
      "image/png": "[encoded data removed]",
      "text/plain": [
       "<Figure size 400x350 with 1 Axes>"
      ]
     },
     "metadata": {},
     "output_type": "display_data"
    }
   ],
   "source": [
    "fig, ax = plt.subplots(1,1,figsize=(4, 3.5))\n",
    "B_HIT.VDJ.pl._boxplot(shannon_entropy_df, 'Cgene', 'shannon_entropy', groupby='Cgene', palette='Set2', xlabel=None, ylabel='shannon_entropy', log=False, ax=ax )\n",
    "plt.show()\n"
   ]
  },
  {
   "cell_type": "markdown",
   "id": "4849c738-e813-4368-8d29-019a0065beb5",
   "metadata": {},
   "source": [
    "### Gini_index (based on UMIs)"
   ]
  },
  {
   "cell_type": "code",
   "execution_count": 10,
   "id": "d11e7001-efdf-45ce-9763-7c1da06683bd",
   "metadata": {
    "execution": {
     "iopub.execute_input": "2025-05-12T09:15:35.953475Z",
     "iopub.status.busy": "2025-05-12T09:15:35.953310Z",
     "iopub.status.idle": "2025-05-12T09:15:36.067421Z",
     "shell.execute_reply": "2025-05-12T09:15:36.066759Z",
     "shell.execute_reply.started": "2025-05-12T09:15:35.953459Z"
    },
    "scrolled": true
   },
   "outputs": [],
   "source": [
    "\n",
    "groups = [sample_key, Cgene_key]\n",
    "gini_index_df = B_HIT.VDJ.tl.compute_grouped_index(bcr_loc_df, sample_key, Cgene_key, clone_key, groups, count_basis = 'UMI', Umi_key='bcUmi', index='gini_index')\n",
    "gini_index_df['tissue'] = gini_index_df['sample'].str.split('-').str[1]\n"
   ]
  },
  {
   "cell_type": "code",
   "execution_count": 11,
   "id": "71c40e5b-05ca-4069-b375-501956436ca1",
   "metadata": {
    "execution": {
     "iopub.execute_input": "2025-05-12T09:15:36.068238Z",
     "iopub.status.busy": "2025-05-12T09:15:36.068070Z",
     "iopub.status.idle": "2025-05-12T09:15:36.183126Z",
     "shell.execute_reply": "2025-05-12T09:15:36.182560Z",
     "shell.execute_reply.started": "2025-05-12T09:15:36.068222Z"
    }
   },
   "outputs": [
    {
     "name": "stderr",
     "output_type": "stream",
     "text": [
      "No artists with labels found to put in legend.  Note that artists whose label start with an underscore are ignored when legend() is called with no argument.\n"
     ]
    },
    {
     "data": {
      "image/png": "[encoded data removed]",
      "text/plain": [
       "<Figure size 400x350 with 1 Axes>"
      ]
     },
     "metadata": {},
     "output_type": "display_data"
    }
   ],
   "source": [
    "\n",
    "fig, ax = plt.subplots(1,1,figsize=(4, 3.5))\n",
    "B_HIT.VDJ.pl._boxplot(gini_index_df, 'Cgene', 'gini_index', groupby='Cgene', palette='Set2', xlabel=None, ylabel='gini_index', log=False, ax=ax )\n",
    "plt.show()\n"
   ]
  },
  {
   "cell_type": "markdown",
   "id": "6cd63b3c-3a9a-4cd4-9deb-c2620ff37cba",
   "metadata": {},
   "source": [
    "### Renyi_entropy (based on UMIs)"
   ]
  },
  {
   "cell_type": "code",
   "execution_count": 12,
   "id": "63d811da-a122-4220-bcac-6921a079f92b",
   "metadata": {
    "execution": {
     "iopub.execute_input": "2025-05-12T09:15:36.184227Z",
     "iopub.status.busy": "2025-05-12T09:15:36.184061Z",
     "iopub.status.idle": "2025-05-12T09:15:36.335479Z",
     "shell.execute_reply": "2025-05-12T09:15:36.334721Z",
     "shell.execute_reply.started": "2025-05-12T09:15:36.184211Z"
    },
    "scrolled": true
   },
   "outputs": [],
   "source": [
    "groups = [sample_key, Cgene_key]\n",
    "renyi_entropy_df = B_HIT.VDJ.tl.compute_grouped_index(bcr_loc_df, sample_key, Cgene_key, clone_key, groups, count_basis = 'UMI', Umi_key='bcUmi', index='renyi_entropy')\n",
    "renyi_entropy_df['tissue'] = renyi_entropy_df['sample'].str.split('-').str[1]\n"
   ]
  },
  {
   "cell_type": "code",
   "execution_count": 14,
   "id": "8ea1ee67-b92e-4b0f-97ee-fc39c8ebf0f6",
   "metadata": {
    "execution": {
     "iopub.execute_input": "2025-05-12T09:15:45.740698Z",
     "iopub.status.busy": "2025-05-12T09:15:45.739807Z",
     "iopub.status.idle": "2025-05-12T09:15:46.323529Z",
     "shell.execute_reply": "2025-05-12T09:15:46.322874Z",
     "shell.execute_reply.started": "2025-05-12T09:15:45.740640Z"
    }
   },
   "outputs": [
    {
     "data": {
      "image/png": "[encoded data removed]",
      "text/plain": [
       "<Figure size 400x350 with 1 Axes>"
      ]
     },
     "metadata": {},
     "output_type": "display_data"
    }
   ],
   "source": [
    "fig, ax = plt.subplots(1,1,figsize=(4, 3.5))\n",
    "sns.lineplot(data=renyi_entropy_df, x=\"alpha\", y=\"renyi_entropy\", hue='Cgene', ax=ax )\n",
    "plt.show()"
   ]
  },
  {
   "cell_type": "code",
   "execution_count": null,
   "id": "40782d4b-2616-4ad0-94f9-e88cd21dc77e",
   "metadata": {},
   "outputs": [],
   "source": []
  },
  {
   "cell_type": "code",
   "execution_count": null,
   "id": "3a0cfb9f-26c9-48b2-8185-24762b3bfcb5",
   "metadata": {},
   "outputs": [],
   "source": []
  },
  {
   "cell_type": "markdown",
   "id": "8a1248d8-b8b0-4483-aa65-3d5506158825",
   "metadata": {},
   "source": [
    "## Generate clone family"
   ]
  },
  {
   "cell_type": "code",
   "execution_count": 8,
   "id": "3ba4a9c2-55f3-4da3-811d-8641a7ba7f39",
   "metadata": {
    "execution": {
     "iopub.execute_input": "2025-05-12T09:20:44.368140Z",
     "iopub.status.busy": "2025-05-12T09:20:44.367315Z",
     "iopub.status.idle": "2025-05-12T09:20:53.221504Z",
     "shell.execute_reply": "2025-05-12T09:20:53.220128Z",
     "shell.execute_reply.started": "2025-05-12T09:20:44.368077Z"
    }
   },
   "outputs": [],
   "source": [
    "df = B_HIT.VDJ.tl.build_bcr_family(bcr_loc_df, Vgene_col, Jgene_col, cdr3nt_col, Cgene_key, Cgene='IGH', threshold=0.85)\n"
   ]
  },
  {
   "cell_type": "code",
   "execution_count": 17,
   "id": "b7593abd-9a76-41e8-a8b3-7d6fde79317d",
   "metadata": {
    "execution": {
     "iopub.execute_input": "2025-05-12T09:21:53.006838Z",
     "iopub.status.busy": "2025-05-12T09:21:53.006079Z",
     "iopub.status.idle": "2025-05-12T09:21:53.066959Z",
     "shell.execute_reply": "2025-05-12T09:21:53.066084Z",
     "shell.execute_reply.started": "2025-05-12T09:21:53.006788Z"
    }
   },
   "outputs": [
    {
     "name": "stdout",
     "output_type": "stream",
     "text": [
      "['TGTGCGAGAGATTCGTTCTACCTGCGCGACTATTGG', 'TGTGCGAGAGATTCGTTCTACCTGCGCGACTATTGG']\n"
     ]
    }
   ],
   "source": [
    "print(list(df.loc[(df['Cgene']=='IGH') & (df['family_id']=='IGH_family_22'), 'cdr3nt'].head(n=2)))\n"
   ]
  },
  {
   "cell_type": "code",
   "execution_count": null,
   "id": "8744a869-0d1d-434c-b1a1-5baf7d7cec97",
   "metadata": {
    "scrolled": true
   },
   "outputs": [],
   "source": []
  },
  {
   "cell_type": "code",
   "execution_count": null,
   "id": "0f1d5706-9671-4623-a87e-dfbe745f58e2",
   "metadata": {},
   "outputs": [],
   "source": []
  },
  {
   "cell_type": "code",
   "execution_count": null,
   "id": "e8a1d7cd-3d95-4952-81ec-1c8ead386b87",
   "metadata": {},
   "outputs": [],
   "source": []
  },
  {
   "cell_type": "code",
   "execution_count": null,
   "id": "d77d953a-96f9-4fff-93bc-1e1a00164228",
   "metadata": {},
   "outputs": [],
   "source": []
  }
 ],
 "metadata": {
  "kernelspec": {
   "display_name": "bhit",
   "language": "python",
   "name": "bhit"
  },
  "language_info": {
   "codemirror_mode": {
    "name": "ipython",
    "version": 3
   },
   "file_extension": ".py",
   "mimetype": "text/x-python",
   "name": "python",
   "nbconvert_exporter": "python",
   "pygments_lexer": "ipython3",
   "version": "3.10.16"
  }
 },
 "nbformat": 4,
 "nbformat_minor": 5
}
